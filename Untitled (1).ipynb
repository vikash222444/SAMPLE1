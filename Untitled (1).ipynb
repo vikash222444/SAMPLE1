{
 "cells": [
  {
   "cell_type": "code",
   "execution_count": 1,
   "id": "91990904",
   "metadata": {},
   "outputs": [
    {
     "data": {
      "text/plain": [
       "2"
      ]
     },
     "execution_count": 1,
     "metadata": {},
     "output_type": "execute_result"
    }
   ],
   "source": [
    "1+1"
   ]
  },
  {
   "cell_type": "code",
   "execution_count": 2,
   "id": "5d472bfd",
   "metadata": {},
   "outputs": [
    {
     "data": {
      "text/plain": [
       "-20"
      ]
     },
     "execution_count": 2,
     "metadata": {},
     "output_type": "execute_result"
    }
   ],
   "source": [
    "1+2-23"
   ]
  },
  {
   "cell_type": "code",
   "execution_count": 3,
   "id": "22347f10",
   "metadata": {},
   "outputs": [
    {
     "data": {
      "text/plain": [
       "2"
      ]
     },
     "execution_count": 3,
     "metadata": {},
     "output_type": "execute_result"
    }
   ],
   "source": [
    "1+1"
   ]
  },
  {
   "cell_type": "code",
   "execution_count": 4,
   "id": "d68ae8c2",
   "metadata": {},
   "outputs": [
    {
     "ename": "SyntaxError",
     "evalue": "invalid syntax (Temp/ipykernel_13356/3211563859.py, line 1)",
     "output_type": "error",
     "traceback": [
      "\u001b[1;36m  File \u001b[1;32m\"C:\\Users\\vikas\\AppData\\Local\\Temp/ipykernel_13356/3211563859.py\"\u001b[1;36m, line \u001b[1;32m1\u001b[0m\n\u001b[1;33m    THG FVPLCVL LDCPOLO\u001b[0m\n\u001b[1;37m        ^\u001b[0m\n\u001b[1;31mSyntaxError\u001b[0m\u001b[1;31m:\u001b[0m invalid syntax\n"
     ]
    }
   ],
   "source": [
    "THG FVPLCVL LDCPOLO\n",
    "KMVKMKVMK"
   ]
  },
  {
   "cell_type": "markdown",
   "id": "aa734b80",
   "metadata": {},
   "source": [
    "MY JDNC BVIKJSAD \n",
    "JNFNJNF\n"
   ]
  },
  {
   "cell_type": "markdown",
   "id": "814761f3",
   "metadata": {},
   "source": [
    "# VIJ\n"
   ]
  },
  {
   "cell_type": "markdown",
   "id": "7ae49b85",
   "metadata": {},
   "source": [
    "HGVMCGTUGUK,TGMVGHN"
   ]
  },
  {
   "cell_type": "raw",
   "id": "7585de33",
   "metadata": {},
   "source": [
    "HFHCJKGHLUIFDTUIL HOUH ;OIUI"
   ]
  },
  {
   "cell_type": "code",
   "execution_count": null,
   "id": "3d9f528e",
   "metadata": {},
   "outputs": [],
   "source": []
  }
 ],
 "metadata": {
  "kernelspec": {
   "display_name": "Python 3 (ipykernel)",
   "language": "python",
   "name": "python3"
  },
  "language_info": {
   "codemirror_mode": {
    "name": "ipython",
    "version": 3
   },
   "file_extension": ".py",
   "mimetype": "text/x-python",
   "name": "python",
   "nbconvert_exporter": "python",
   "pygments_lexer": "ipython3",
   "version": "3.9.7"
  }
 },
 "nbformat": 4,
 "nbformat_minor": 5
}
